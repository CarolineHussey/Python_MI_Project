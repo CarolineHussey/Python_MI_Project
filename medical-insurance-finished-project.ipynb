{
 "cells": [
  {
   "cell_type": "markdown",
   "metadata": {},
   "source": [
    "Medical Insurance Codecademy Project: Python Syntax. \n",
    "\n",
    "This project analyses a medical insurance data using basic Python syntax.\n",
    "\n",
    "Data is stored in CSV format.  Each column is extracted to list format and numbers formatted as strings are converted to numeric format to assist data analysis.  \n",
    "\n",
    "A patient ID list is added to the data.  the number / id is used to make sure each variable stays together as functions are carried out, and also serves as a means of returning a specific profile.  \n",
    "\n",
    "An interactive form is built with tkinter (although this data is not yet collected / stored)\n",
    "\n",
    "The patientData class performs analyses the data in each column.  \n",
    "\n",
    "The Patient class allows us to simulate a new patient profile.  We can generate a new ID and calculate the cost of their insurance policy.  \n",
    "\n",
    "Several functions are provided to read a CSV file, and to write and append to a CSV datastore. \n",
    "\n",
    "Next steps:\n",
    "1) work out how to update a value in the patient profile (unique id, calculate medical costs) \n",
    "3) work out how to collect / store data obtained in form\n",
    "4) data visualisations\n",
    "5) correlations between series\n"
   ]
  },
  {
   "cell_type": "code",
   "execution_count": 46,
   "metadata": {},
   "outputs": [],
   "source": [
    "#imort statements\n",
    "import csv\n",
    "import pandas as pd\n",
    "from uuid import uuid4\n",
    "from tkinter import *\n",
    "from tkinter import ttk"
   ]
  },
  {
   "cell_type": "code",
   "execution_count": 47,
   "metadata": {},
   "outputs": [],
   "source": [
    "# set an empty list for each column in the csv\n",
    "ages = []\n",
    "sexes = []\n",
    "bmis = []\n",
    "num_children = []\n",
    "smoker_statuses = []\n",
    "regions = []\n",
    "cost = []\n",
    "#df=pd.read_csv(r'C:\\Users\\carol\\Coding\\Codecademy\\Data_Science\\PythonSyntax\\python-portfolio-project\\insurance.csv')\n",
    "#print(df.head)"
   ]
  },
  {
   "cell_type": "code",
   "execution_count": 48,
   "metadata": {},
   "outputs": [],
   "source": [
    "#create a function to read the csv file and append each column to the lists above\n",
    "\n",
    "def load_data(lst, file, column):\n",
    "    with open(file) as csv_data:\n",
    "        dct = csv.DictReader(csv_data)\n",
    "        for row in dct:\n",
    "            lst.append(row[column])\n",
    "        return lst"
   ]
  },
  {
   "cell_type": "code",
   "execution_count": 49,
   "metadata": {},
   "outputs": [],
   "source": [
    "#run the function on the csv\n",
    "load_data(ages, r'C:\\Users\\carol\\Coding\\Codecademy\\Data_Science\\PythonSyntax\\python-portfolio-project\\insurance.csv', 'age')\n",
    "load_data(sexes, 'insurance.csv', 'sex')\n",
    "load_data(bmis, 'insurance.csv', 'bmi')\n",
    "load_data(num_children, 'insurance.csv', 'children')\n",
    "load_data(smoker_statuses, 'insurance.csv', 'smoker')\n",
    "load_data(regions, 'insurance.csv', 'region')\n",
    "load_data(cost, 'insurance.csv', 'charges')\n",
    "pid = [x for x in range(len(ages))]\n"
   ]
  },
  {
   "cell_type": "code",
   "execution_count": 50,
   "metadata": {},
   "outputs": [],
   "source": [
    "#Convert data to numeric\n",
    "def to_numeric(lst):\n",
    "    new_lst=[]\n",
    "    for i in lst:\n",
    "        new_lst.append(float(i))\n",
    "    return new_lst\n",
    "\n",
    "ages=to_numeric(ages)\n",
    "bmis=to_numeric(bmis)\n",
    "num_children=to_numeric(num_children)\n",
    "cost=to_numeric(cost)"
   ]
  },
  {
   "cell_type": "code",
   "execution_count": 51,
   "metadata": {},
   "outputs": [],
   "source": [
    "#Interactive form built with tkinter to calculate insurance cost based on user input. a nice development would be to add the user informaiton to the datastore with an 'Accept' button\n",
    "fields = (\"Age\", \"Sex\", \"BMI\", \"Number of Children\", \"Smoker\", \"Cost\")\n",
    "\n",
    "def calculate_cost(entries):\n",
    "    if entries['Sex']=='Male' or entries['Sex'] == 'male' or entries['Sex'] == 'm' or entries['Sex'] == 'M':\n",
    "        s = 64 * 1\n",
    "    else: \n",
    "        s = 64 * 0\n",
    "    if entries['Smoker']=='Yes' or entries['Smoker'] == 'yes' or entries['Smoker'] == 'y' or entries['Smoker'] == 'Y':\n",
    "        ss = 12000 * 1\n",
    "    else: \n",
    "        ss = 12000 * 1\n",
    "    a = 125 * float(entries['Age'].get())\n",
    "    print(\"a\", a)\n",
    "    b = 185 * float(entries['BMI'].get())\n",
    "    c = 213 * float(entries['Number of Children'].get()) \n",
    "    cost = a - s + b + c + ss - 12500\n",
    "    entries['Cost'].delete(0,END)\n",
    "    entries['Cost'].insert(0, cost)\n",
    "    print(\"Annual Insurance Premium will cost: £%f\" % float(cost)) \n",
    "    \n",
    "def makeform(root, fields):\n",
    "    entries = {}\n",
    "    for field in fields:\n",
    "        row = Frame(root)\n",
    "        lab = Label(row, width=22, text=field+\": \", anchor='w')\n",
    "        ent = Entry(row)\n",
    "        ent.insert(0,\"0\")\n",
    "        row.pack(side = TOP, fill = X, padx = 5 , pady = 5)\n",
    "        lab.pack(side = LEFT)\n",
    "        ent.pack(side = RIGHT, expand = YES, fill = X)\n",
    "        entries[field] = ent\n",
    "    return entries\n",
    "if __name__ == '__main__':\n",
    "    root = Tk()\n",
    "    ents = makeform(root, fields)\n",
    "    root.bind('<Return>', (lambda event, e = ents: fetch(e)))\n",
    "    b1 = Button(root, text = 'Calculate Cost',\n",
    "      command=(lambda e = ents: calculate_cost(e)))\n",
    "    b1.pack(side = LEFT, padx = 5, pady = 5)\n",
    " #   b2 = Button(root, text='Accept',\n",
    " #   command=(lambda e = ents: add_to_store(e)))\n",
    " #   b2.pack(side = LEFT, padx = 5, pady = 5)\n",
    "    b3 = Button(root, text = 'Quit', command = root.quit())\n",
    "    b3.pack(side = LEFT, padx = 5, pady = 5)\n",
    "    root.mainloop()"
   ]
  },
  {
   "cell_type": "code",
   "execution_count": 52,
   "metadata": {},
   "outputs": [],
   "source": [
    "#create a class o analyse patient data from the lists for each named categories\n",
    "class PatientData:\n",
    "    \n",
    "#initialise\n",
    "\n",
    "    def __init__(self, p_id, p_age, p_sex, p_bmi, p_children, p_ss, p_region, p_cost):\n",
    "        self.p_id = p_id\n",
    "        self.p_age = p_age\n",
    "        self.p_sex = p_sex\n",
    "        self.p_bmi = p_bmi\n",
    "        self.p_children = p_children\n",
    "        self.p_ss = p_ss\n",
    "        self.p_region = p_region\n",
    "        self.p_cost = p_cost\n",
    "    \n",
    "#The function will take 8 lists (the lists found in this dataset) and convert them to dictionary format. The dictionary id is the key and the value is the patient's profile in dictionary format.  \n",
    "    def dictionary(lst1, lst2, lst3, lst4, lst5, lst6, lst7, lst8):\n",
    "        data = {pid: {'Patient Id':pid, 'Age': ages, 'Sex': sexes, \"BMI\":bmis, \"Num_Children\": num_children, \"Smoker Status\": smoker_statuses, \"Location\": regions, \"Cost\": cost} for pid, ages, sexes, bmis, num_children, smoker_statuses, regions, cost in zip(lst1, lst2, lst3, lst4, lst5, lst6, lst7, lst8)}\n",
    "        return data\n",
    "        \n",
    "#print out a patient's profile. This function takes an integer - that is the patient's id number, and prints the patient's profile. \n",
    "    def patient_profile(idi):\n",
    "        data = PatientData.dictionary(pid, ages, sexes, bmis, num_children, smoker_statuses, regions, cost)\n",
    "        pp= data.get(idi)\n",
    "        print(pp)\n",
    "    \n",
    "#Analyse regions.  This function prints out each uniue region, calculates the number of patients in this dataset from each region and calculates the percentage of patiens in each locaiton. \n",
    "    def analyse_regions(self):\n",
    "        regions = []\n",
    "        southwest=0\n",
    "        southeast=0\n",
    "        northeast=0\n",
    "        northwest=0\n",
    "        for r in self.p_region:\n",
    "            if r not in regions: \n",
    "                regions.append(r)     \n",
    "        for r in self.p_region:\n",
    "            if r == 'southwest':\n",
    "                southwest+=1\n",
    "            if r == 'southeast':\n",
    "                southeast+=1    \n",
    "            if r == 'northeast':\n",
    "                northeast+=1\n",
    "            if r == 'northwest':\n",
    "                northwest+=1\n",
    "        sw_pc=round(southwest/len(self.p_id)* 100, 2)\n",
    "        se_pc=round(southeast/len(self.p_id)*100, 2)\n",
    "        nw_pc=round(northwest/len(self.p_id)* 100, 2)\n",
    "        ne_pc=round(northeast/len(self.p_id)*100, 2)\n",
    "        print(\"The regions covered in this dataset are: \")\n",
    "        for r in regions:\n",
    "            print(r)\n",
    "        print(\"There are \" + str(southwest) + \" patients located in the southwest, \" \n",
    "              + str(southeast) + \" in the southeast, \" + str(northwest) + \" in the northwest and \" + str(northeast) + \" in the northeast.\")\n",
    "        print(\"The spread of patient location based on this dataset show that \" + str(sw_pc) + \"% of patients live in the souhwest, \" + str(se_pc) + \"% live in the southeast, \" + str(nw_pc)+\"% in the northwest and \" +str(ne_pc)+ \"% in the northeast\")\n",
    "\n",
    "#Analyse bmi.  This function calculates the highest, lowest and average bmi of patients in the dataset. \n",
    "\n",
    "    def analyse_bmi(self):\n",
    "        \n",
    "        max_bmi = round(max(self.p_bmi), 2)\n",
    "        min_bmi = round(min(self.p_bmi), 2)\n",
    "        average_bmi=round(sum(self.p_bmi)/len(self.p_bmi))\n",
    "        print('Highest BMI: ' + str(max_bmi)) \n",
    "        print('Lowest BMI: ' + str(min_bmi))\n",
    "        print('Average BMI: ' + str(average_bmi))\n",
    "        \n",
    "#count genders.  This function counts the number of male and female patients in the dataset. \n",
    "        \n",
    "    def gender_pct(self):\n",
    "        M=0\n",
    "        F=0\n",
    "        for i in self.p_sex:\n",
    "            if i == 'male':\n",
    "                M+=1\n",
    "            else:\n",
    "                F+=1\n",
    "        fpc= round(F/len(self.p_sex)*100, 2)\n",
    "        mpc= round(M/len(self.p_sex)*100, 2)\n",
    "        return \"There are a total number of \" + str(M) + \" male patients and \" + str(F) + \" female patients in this dataset. \" + str(fpc) + \"% of ptients in this dataset are female, whereas \" + str(mpc) + \"% are male. This shows that there is a fairly even spread of male and female patients, with just over 1% more male patients than female.\"\n",
    "\n",
    "#Analyse age. This function calculates the oldest, youngest and average age of patients in the dataset.  It also prints all unique ages in the dataset.  \n",
    "\n",
    "    def analyse_age(self):\n",
    "        \n",
    "        max_age = int(max(self.p_age))\n",
    "        min_age = int(min(self.p_age))\n",
    "        average_age=round(sum(self.p_age)/len(self.p_age))\n",
    "        ages=[]\n",
    "        for a in self.p_age:\n",
    "            if a not in ages: \n",
    "                ages.append(int(a))\n",
    "                ages.sort()\n",
    "        print('Oldest patient: ' + str(max_age)) \n",
    "        print('Youngest patient: ' + str(min_age))\n",
    "        print('Average age of patient population: ' + str(average_age))\n",
    "        print('Unique ages in the group are: ')\n",
    "        print(ages)\n",
    "        \n",
    "#Analyse number of children. This function calculates the highest, lowest and average number of patient's children in the dataset. \n",
    "\n",
    "    def num_children(self):\n",
    "        \n",
    "        max_num_children = int(max(self.p_children))\n",
    "        min_num_children = int(min(self.p_children))\n",
    "        average_num_children=round(sum(self.p_children)/len(self.p_children))\n",
    "        print('Highest number of children: ' + str(max_num_children)) \n",
    "        print('Lowest number of children: ' + str(min_num_children))\n",
    "        print('Average number of children in this patient population: ' + str(average_num_children))\n",
    "        \n",
    "        \n",
    "# Analyse costs. This function calculates the total, highest, lowest and average insurance costs of this dataset.\n",
    "\n",
    "    def insurance_costs(self):\n",
    "        total_cost = 0\n",
    "        max_cost = round(max(self.p_cost), 2)\n",
    "        min_cost=round(min(self.p_cost), 2)\n",
    "        for c in self.p_cost:\n",
    "            total_cost += c\n",
    "            total_cost=round(total_cost, 2)\n",
    "        average_cost=round(total_cost/len(self.p_id))\n",
    "        print('The total insurance premium income is £' + str(total_cost) + '. \\nThe average cost is £' + str(average_cost) + '. \\nThe highest insurance premium comes to £' + str(max_cost) + ', while the lowest is £' + str(min_cost)+'.')\n",
    "\n",
    "# Analyse Smoker_Status. This function counts the number of patients wo smoke and do not smoke in the dataset, and the percentage population from this dataset of patients who smoke. \n",
    "\n",
    "    def smoker_status(self):\n",
    "        Y=0\n",
    "        N=0\n",
    "        for i in self.p_ss:\n",
    "            if i == 'yes':\n",
    "                Y += 1\n",
    "            elif i == 'no':\n",
    "                N += 1\n",
    "        pc= round(Y/len(self.p_ss)*100, 2)\n",
    "        print(\"The number of patients who smoke is \" + str(Y) + \" whereas \" + str(N) + \" patients do not smoke. Of the given popultion, \" + str(pc) + \"% of people smoke\")"
   ]
  },
  {
   "cell_type": "code",
   "execution_count": 53,
   "metadata": {},
   "outputs": [],
   "source": [
    "p_info = PatientData.dictionary(pid, ages, sexes, bmis, num_children, smoker_statuses, regions, cost)\n",
    "#print(p_info)"
   ]
  },
  {
   "cell_type": "code",
   "execution_count": 54,
   "metadata": {},
   "outputs": [
    {
     "name": "stdout",
     "output_type": "stream",
     "text": [
      "{'Patient Id': 10, 'Age': 25.0, 'Sex': 'male', 'BMI': 26.22, 'Num_Children': 0.0, 'Smoker Status': 'no', 'Location': 'northeast', 'Cost': 2721.3208}\n"
     ]
    }
   ],
   "source": [
    "ten=PatientData.patient_profile(10)\n",
    "#print(ten)"
   ]
  },
  {
   "cell_type": "code",
   "execution_count": 55,
   "metadata": {},
   "outputs": [
    {
     "name": "stdout",
     "output_type": "stream",
     "text": [
      "The total insurance premium income is £17755825.04. \n",
      "The average cost is £13270. \n",
      "The highest insurance premium comes to £63770.43, while the lowest is £1121.87.\n"
     ]
    }
   ],
   "source": [
    "data= PatientData(pid, ages, sexes, bmis, num_children, smoker_statuses, regions, cost)\n",
    "cost_analysis= data.insurance_costs()"
   ]
  },
  {
   "cell_type": "code",
   "execution_count": 56,
   "metadata": {},
   "outputs": [
    {
     "name": "stdout",
     "output_type": "stream",
     "text": [
      "Highest BMI: 53.13\n",
      "Lowest BMI: 15.96\n",
      "Average BMI: 31\n"
     ]
    }
   ],
   "source": [
    "data.analyse_bmi()"
   ]
  },
  {
   "cell_type": "code",
   "execution_count": 57,
   "metadata": {},
   "outputs": [
    {
     "name": "stdout",
     "output_type": "stream",
     "text": [
      "Oldest patient: 64\n",
      "Youngest patient: 18\n",
      "Average age of patient population: 39\n",
      "Unique ages in the group are: \n",
      "[18, 19, 20, 21, 22, 23, 24, 25, 26, 27, 28, 29, 30, 31, 32, 33, 34, 35, 36, 37, 38, 39, 40, 41, 42, 43, 44, 45, 46, 47, 48, 49, 50, 51, 52, 53, 54, 55, 56, 57, 58, 59, 60, 61, 62, 63, 64]\n"
     ]
    }
   ],
   "source": [
    "data.analyse_age()"
   ]
  },
  {
   "cell_type": "code",
   "execution_count": 58,
   "metadata": {},
   "outputs": [
    {
     "name": "stdout",
     "output_type": "stream",
     "text": [
      "The number of patients who smoke is 274 whereas 1064 patients do not smoke. Of the given popultion, 20.48% of people smoke\n"
     ]
    }
   ],
   "source": [
    "data.smoker_status()"
   ]
  },
  {
   "cell_type": "code",
   "execution_count": 59,
   "metadata": {},
   "outputs": [
    {
     "name": "stdout",
     "output_type": "stream",
     "text": [
      "The regions covered in this dataset are: \n",
      "southwest\n",
      "southeast\n",
      "northwest\n",
      "northeast\n",
      "There are 325 patients located in the southwest, 364 in the southeast, 325 in the northwest and 324 in the northeast.\n",
      "The spread of patient location based on this dataset show that 24.29% of patients live in the souhwest, 27.2% live in the southeast, 24.29% in the northwest and 24.22% in the northeast\n"
     ]
    }
   ],
   "source": [
    "data.analyse_regions()"
   ]
  },
  {
   "cell_type": "code",
   "execution_count": 60,
   "metadata": {},
   "outputs": [
    {
     "data": {
      "text/plain": [
       "'There are a total number of 676 male patients and 662 female patients in this dataset. 49.48% of ptients in this dataset are female, whereas 50.52% are male. This shows that there is a fairly even spread of male and female patients, with just over 1% more male patients than female.'"
      ]
     },
     "execution_count": 60,
     "metadata": {},
     "output_type": "execute_result"
    }
   ],
   "source": [
    "data.gender_pct()"
   ]
  },
  {
   "cell_type": "code",
   "execution_count": 61,
   "metadata": {},
   "outputs": [
    {
     "name": "stdout",
     "output_type": "stream",
     "text": [
      "Highest number of children: 5\n",
      "Lowest number of children: 0\n",
      "Average number of children in this patient population: 1\n"
     ]
    }
   ],
   "source": [
    "data.num_children()"
   ]
  },
  {
   "cell_type": "code",
   "execution_count": 62,
   "metadata": {},
   "outputs": [],
   "source": [
    "class Patient:\n",
    "    def __init__(self, p_id, p_age, p_sex, p_bmi, p_children, p_ss, p_region, p_cost):\n",
    "        self.name = p_id\n",
    "        self.age = p_age\n",
    "        self.sex = p_sex\n",
    "        self.bmi = p_bmi\n",
    "        self.num_of_children = p_children\n",
    "        self.ss = p_ss\n",
    "        self.region=p_region\n",
    "        self.cost=p_cost\n",
    "\n",
    "#Calculate Insurance costs.  This method builds on the patient object, and calculates a quote based on parameters provided \n",
    "    def calculate_insurance_cost(self):\n",
    "        if self.sex=='Male' or self.sex == 'male' or self.sex == 'm':\n",
    "            self.sex = 1\n",
    "        else: self.sex = 0\n",
    "        if self.ss=='Yes' or self.ss == 'yes' or self.ss == 'y' or self.ss == 'Y':\n",
    "            self.ss = 1\n",
    "        else: self.ss = 0\n",
    "        insurance_cost = 125 * self.age - 128 * self.sex + 185 * self.bmi + 223 * self.num_of_children + 12000 * self.ss - 12500\n",
    "        print('The insurance cost for the new patient is £' + str(insurance_cost))\n",
    "        \n",
    "# Generate Unique patient ID.  This method takes a patient object as a parameter and generates a unique ID.        \n",
    "    def generate_id(self):\n",
    "        #data = PatientData.dictionary(pid, ages, sexes, bmis, num_children, smoker_statuses, regions, cost)\n",
    "        unique_id = str(uuid4())\n",
    "        print(unique_id)"
   ]
  },
  {
   "cell_type": "code",
   "execution_count": 63,
   "metadata": {},
   "outputs": [],
   "source": [
    "patient1=Patient(None, 25, 'Male', 65, 0, 'No', 'northwest', None)\n",
    "patient2=Patient(None, 32, 'Female', 50, 1, 'No', 'southwest', None)\n"
   ]
  },
  {
   "cell_type": "code",
   "execution_count": 64,
   "metadata": {},
   "outputs": [
    {
     "name": "stdout",
     "output_type": "stream",
     "text": [
      "The insurance cost for the new patient is £2522\n",
      "The insurance cost for the new patient is £973\n"
     ]
    }
   ],
   "source": [
    "patient1.calculate_insurance_cost()\n",
    "patient2.calculate_insurance_cost()"
   ]
  },
  {
   "cell_type": "code",
   "execution_count": 65,
   "metadata": {},
   "outputs": [
    {
     "name": "stdout",
     "output_type": "stream",
     "text": [
      "9857aa8a-b8d8-4f96-baf5-3149f1be8d99\n"
     ]
    }
   ],
   "source": [
    "Patient.generate_id(patient1)\n"
   ]
  },
  {
   "cell_type": "code",
   "execution_count": 66,
   "metadata": {},
   "outputs": [],
   "source": [
    "#To_csv function takes 8 unlabelled lists, adds a label corresponding to the lsts in this dataset, zips th erows to dictionary format then writes the dictionary to csv.  \n",
    "\n",
    "def to_csv(lst1, lst2, lst3, lst4, lst5, lst6, lst7, lst8):\n",
    "    lst1.insert(0, 'Patient ID')\n",
    "    lst2.insert(0, 'Age')\n",
    "    lst3.insert(0, 'Sex')\n",
    "    lst4.insert(0, 'BMI')\n",
    "    lst5.insert(0, 'Number of Children')\n",
    "    lst6.insert(0, 'Smoker Status')\n",
    "    lst7.insert(0, 'Region')\n",
    "    lst8.insert(0, 'Insurance Premium')\n",
    "    #print(lst2)\n",
    "    d= list(zip(lst1, lst2, lst3, lst4, lst5, lst6, lst7, lst8))\n",
    "    with open('data_store1.csv', 'w', newline='') as f:\n",
    "        writer = csv.writer(f)\n",
    "        writer.writerows(d) \n",
    "    "
   ]
  },
  {
   "cell_type": "code",
   "execution_count": 67,
   "metadata": {},
   "outputs": [],
   "source": [
    "to_csv(pid, ages, sexes, bmis, num_children, smoker_statuses, regions, cost)"
   ]
  },
  {
   "cell_type": "code",
   "execution_count": 68,
   "metadata": {},
   "outputs": [],
   "source": [
    "#read CSV function prints contents of the csv to the console\n",
    "\n",
    "def read_csv(file):\n",
    "    #fields=['pid', 'ages', 'sexes', 'bmis', 'num_children', 'smoker_statuses', 'regions', 'cost']\n",
    "    with open(file, 'r', newline='') as f:\n",
    "        reader = csv.DictReader(f)\n",
    "        for row in reader:\n",
    "            print(row)"
   ]
  },
  {
   "cell_type": "code",
   "execution_count": 69,
   "metadata": {},
   "outputs": [],
   "source": [
    "#read_csv('test_read.csv')"
   ]
  },
  {
   "cell_type": "code",
   "execution_count": 70,
   "metadata": {},
   "outputs": [],
   "source": [
    "#This function takes the name of the file that you would like to update and a dictionary using the field names as the key and the new patient data as the values.  \n",
    "\n",
    "def update_csv(file, dct):\n",
    "    #listi = [{'pid': 1000, 'ages': 66, 'sexes': 'Male', 'bmis': 32, 'num_children': 5, 'smoker_statuses': 'Yes', 'regions': 'Southeast', 'cost': p1_cost}]\n",
    "    with open(file, 'a', newline='') as f:\n",
    "        fields=['pid', 'ages', 'sexes', 'bmis', 'num_children', 'smoker_statuses', 'regions', 'cost']\n",
    "        writer= csv.DictWriter(f, fieldnames=fields)\n",
    "        #writer.writeheader()\n",
    "        for i in dct:\n",
    "            writer.writerow(i)"
   ]
  },
  {
   "cell_type": "code",
   "execution_count": 71,
   "metadata": {},
   "outputs": [],
   "source": [
    "update_csv('test_update.csv', [{'pid': 3, 'ages': 41, 'sexes': 'Female', 'bmis': 30, 'num_children': 0, 'smoker_statuses': 'No', 'regions': 'Northwest', 'cost': 12500}])"
   ]
  },
  {
   "cell_type": "code",
   "execution_count": null,
   "metadata": {},
   "outputs": [],
   "source": []
  }
 ],
 "metadata": {
  "kernelspec": {
   "display_name": "Python 3",
   "language": "python",
   "name": "python3"
  },
  "language_info": {
   "codemirror_mode": {
    "name": "ipython",
    "version": 3
   },
   "file_extension": ".py",
   "mimetype": "text/x-python",
   "name": "python",
   "nbconvert_exporter": "python",
   "pygments_lexer": "ipython3",
   "version": "3.8.5"
  }
 },
 "nbformat": 4,
 "nbformat_minor": 4
}
